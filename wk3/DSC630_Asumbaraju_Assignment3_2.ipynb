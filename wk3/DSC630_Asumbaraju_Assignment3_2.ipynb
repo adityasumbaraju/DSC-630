{
 "cells": [
  {
   "cell_type": "code",
   "execution_count": 2,
   "metadata": {},
   "outputs": [],
   "source": [
    "import pandas as pd\n",
    "import numpy as np\n",
    "import seaborn as sns\n",
    "import matplotlib.pyplot as plt \n",
    "from sklearn import linear_model\n",
    "from sklearn.model_selection import train_test_split\n",
    "from sklearn.linear_model import LinearRegression\n",
    "from sklearn.preprocessing import LabelEncoder\n",
    "from statsmodels.formula.api import ols\n"
   ]
  },
  {
   "cell_type": "code",
   "execution_count": 4,
   "metadata": {},
   "outputs": [
    {
     "data": {
      "text/html": [
       "<div>\n",
       "<style scoped>\n",
       "    .dataframe tbody tr th:only-of-type {\n",
       "        vertical-align: middle;\n",
       "    }\n",
       "\n",
       "    .dataframe tbody tr th {\n",
       "        vertical-align: top;\n",
       "    }\n",
       "\n",
       "    .dataframe thead th {\n",
       "        text-align: right;\n",
       "    }\n",
       "</style>\n",
       "<table border=\"1\" class=\"dataframe\">\n",
       "  <thead>\n",
       "    <tr style=\"text-align: right;\">\n",
       "      <th></th>\n",
       "      <th>month</th>\n",
       "      <th>day</th>\n",
       "      <th>attend</th>\n",
       "      <th>day_of_week</th>\n",
       "      <th>opponent</th>\n",
       "      <th>temp</th>\n",
       "      <th>skies</th>\n",
       "      <th>day_night</th>\n",
       "      <th>cap</th>\n",
       "      <th>shirt</th>\n",
       "      <th>fireworks</th>\n",
       "      <th>bobblehead</th>\n",
       "    </tr>\n",
       "  </thead>\n",
       "  <tbody>\n",
       "    <tr>\n",
       "      <th>0</th>\n",
       "      <td>APR</td>\n",
       "      <td>10</td>\n",
       "      <td>56000</td>\n",
       "      <td>Tuesday</td>\n",
       "      <td>Pirates</td>\n",
       "      <td>67</td>\n",
       "      <td>Clear</td>\n",
       "      <td>Day</td>\n",
       "      <td>NO</td>\n",
       "      <td>NO</td>\n",
       "      <td>NO</td>\n",
       "      <td>NO</td>\n",
       "    </tr>\n",
       "    <tr>\n",
       "      <th>1</th>\n",
       "      <td>APR</td>\n",
       "      <td>11</td>\n",
       "      <td>29729</td>\n",
       "      <td>Wednesday</td>\n",
       "      <td>Pirates</td>\n",
       "      <td>58</td>\n",
       "      <td>Cloudy</td>\n",
       "      <td>Night</td>\n",
       "      <td>NO</td>\n",
       "      <td>NO</td>\n",
       "      <td>NO</td>\n",
       "      <td>NO</td>\n",
       "    </tr>\n",
       "    <tr>\n",
       "      <th>2</th>\n",
       "      <td>APR</td>\n",
       "      <td>12</td>\n",
       "      <td>28328</td>\n",
       "      <td>Thursday</td>\n",
       "      <td>Pirates</td>\n",
       "      <td>57</td>\n",
       "      <td>Cloudy</td>\n",
       "      <td>Night</td>\n",
       "      <td>NO</td>\n",
       "      <td>NO</td>\n",
       "      <td>NO</td>\n",
       "      <td>NO</td>\n",
       "    </tr>\n",
       "    <tr>\n",
       "      <th>3</th>\n",
       "      <td>APR</td>\n",
       "      <td>13</td>\n",
       "      <td>31601</td>\n",
       "      <td>Friday</td>\n",
       "      <td>Padres</td>\n",
       "      <td>54</td>\n",
       "      <td>Cloudy</td>\n",
       "      <td>Night</td>\n",
       "      <td>NO</td>\n",
       "      <td>NO</td>\n",
       "      <td>YES</td>\n",
       "      <td>NO</td>\n",
       "    </tr>\n",
       "    <tr>\n",
       "      <th>4</th>\n",
       "      <td>APR</td>\n",
       "      <td>14</td>\n",
       "      <td>46549</td>\n",
       "      <td>Saturday</td>\n",
       "      <td>Padres</td>\n",
       "      <td>57</td>\n",
       "      <td>Cloudy</td>\n",
       "      <td>Night</td>\n",
       "      <td>NO</td>\n",
       "      <td>NO</td>\n",
       "      <td>NO</td>\n",
       "      <td>NO</td>\n",
       "    </tr>\n",
       "  </tbody>\n",
       "</table>\n",
       "</div>"
      ],
      "text/plain": [
       "  month  day  attend day_of_week opponent  temp   skies day_night cap shirt  \\\n",
       "0   APR   10   56000     Tuesday  Pirates    67  Clear        Day  NO    NO   \n",
       "1   APR   11   29729   Wednesday  Pirates    58  Cloudy     Night  NO    NO   \n",
       "2   APR   12   28328    Thursday  Pirates    57  Cloudy     Night  NO    NO   \n",
       "3   APR   13   31601      Friday   Padres    54  Cloudy     Night  NO    NO   \n",
       "4   APR   14   46549    Saturday   Padres    57  Cloudy     Night  NO    NO   \n",
       "\n",
       "  fireworks bobblehead  \n",
       "0        NO         NO  \n",
       "1        NO         NO  \n",
       "2        NO         NO  \n",
       "3       YES         NO  \n",
       "4        NO         NO  "
      ]
     },
     "execution_count": 4,
     "metadata": {},
     "output_type": "execute_result"
    }
   ],
   "source": [
    "# Load the dataset \n",
    "dodgers = pd.read_csv(\"C:\\BU\\DSC630\\wk3/dodgers.csv\")\n",
    "\n",
    "dodgers.head()"
   ]
  },
  {
   "cell_type": "code",
   "execution_count": 61,
   "metadata": {},
   "outputs": [
    {
     "data": {
      "image/png": "[encoded data removed]",
      "text/plain": [
       "<Figure size 432x288 with 1 Axes>"
      ]
     },
     "metadata": {
      "needs_background": "light"
     },
     "output_type": "display_data"
    }
   ],
   "source": [
    "# Explore attendance distribution by month, day of the week, and opponent. \n",
    "plt.figure()\n",
    "plt.subplot(1, 1, 1)\n",
    "sns.boxplot(x='month', y='attend', data=df)\n",
    "_ = plt.xlabel('Month')\n",
    "_ = plt.ylabel('Attendance')\n",
    "_ = plt.title('Attendance per Month')\n",
    "\n"
   ]
  },
  {
   "cell_type": "code",
   "execution_count": 62,
   "metadata": {},
   "outputs": [
    {
     "data": {
      "image/png": "[encoded data removed]",
      "text/plain": [
       "<Figure size 432x288 with 1 Axes>"
      ]
     },
     "metadata": {
      "needs_background": "light"
     },
     "output_type": "display_data"
    }
   ],
   "source": [
    "plt.subplot(1, 1, 1)\n",
    "sns.boxplot(x='day_of_week', y='attend', data=df)\n",
    "_ = plt.xlabel('Day of Week')\n",
    "_ = plt.ylabel('Attedance')\n",
    "_ = plt.title('Attendance per Day of Week')\n",
    "\n"
   ]
  },
  {
   "cell_type": "markdown",
   "metadata": {},
   "source": [
    "A few things stand out here. It looks like Mondays and Wednesdays are the days of the week where fans aren't coming out for baseball. That makes sense because Monday stands the week start and the wednesday is bump day; most people are either working or in school during the day, and at night might not come out due to getting an early start the next day for work or school."
   ]
  },
  {
   "cell_type": "code",
   "execution_count": 63,
   "metadata": {},
   "outputs": [
    {
     "data": {
      "image/png": "[encoded data removed]",
      "text/plain": [
       "<Figure size 432x288 with 1 Axes>"
      ]
     },
     "metadata": {
      "needs_background": "light"
     },
     "output_type": "display_data"
    }
   ],
   "source": [
    "plt.subplot(1, 1, 1)\n",
    "sns.stripplot(x='attend', y='opponent', data=df, hue='day_night', palette='Blues')\n",
    "_ = plt.xlabel('Attendance')\n",
    "_ = plt.ylabel('Oppontent')\n",
    "_ = plt.title('Attendance by Opponent')"
   ]
  },
  {
   "cell_type": "code",
   "execution_count": 64,
   "metadata": {},
   "outputs": [
    {
     "data": {
      "image/png": "[encoded data removed]",
      "text/plain": [
       "<Figure size 498.75x432 with 4 Axes>"
      ]
     },
     "metadata": {
      "needs_background": "light"
     },
     "output_type": "display_data"
    }
   ],
   "source": [
    "# Explore attendance by temperature and bobblehead promotion\n",
    "g = sns.FacetGrid(df, col='day_night', row='skies', hue='bobblehead')\n",
    "g = (g.map(plt.scatter, 'temp', 'attend').add_legend())\n",
    "g = g.set_axis_labels('Temperature', 'Attendance')"
   ]
  },
  {
   "cell_type": "code",
   "execution_count": 77,
   "metadata": {},
   "outputs": [],
   "source": [
    "# Create a new data frame keeping month, day_of_week, bobblehead, and attendance columns.\n",
    "df2 = df[['month', 'day_of_week', 'bobblehead', 'attend']]"
   ]
  },
  {
   "cell_type": "code",
   "execution_count": 78,
   "metadata": {},
   "outputs": [
    {
     "name": "stderr",
     "output_type": "stream",
     "text": [
      "C:\\Users\\aditya.sumbaraju\\Anaconda3\\lib\\site-packages\\pandas\\core\\indexing.py:1676: SettingWithCopyWarning: \n",
      "A value is trying to be set on a copy of a slice from a DataFrame.\n",
      "Try using .loc[row_indexer,col_indexer] = value instead\n",
      "\n",
      "See the caveats in the documentation: https://pandas.pydata.org/pandas-docs/stable/user_guide/indexing.html#returning-a-view-versus-a-copy\n",
      "  self._setitem_single_column(ilocs[0], value, pi)\n"
     ]
    }
   ],
   "source": [
    "# Use LabelEncoder to convert month, day_of_week, and bobblehead to numeric values.\n",
    "le = LabelEncoder()\n",
    "indexCols = ['month', 'day_of_week', 'bobblehead']\n",
    "for i in indexCols:\n",
    "    df2.loc[:,i] = le.fit_transform(df2.loc[:,i])"
   ]
  },
  {
   "cell_type": "code",
   "execution_count": 79,
   "metadata": {},
   "outputs": [],
   "source": [
    "# Estabilsh a random seed and split the data into train and test sets. \n",
    "# Now we can use the train_test_split function in order to make the split. \n",
    "# The test_size=0.3 inside the function indicates the percentage of the data that should be held over for testing. \n",
    "# It’s usually around 80/20 or 70/30:\n",
    "\n",
    "np.random.seed(42)\n",
    "X_train, X_test, y_train, y_test = train_test_split(df2[['month', 'day_of_week', 'bobblehead']], df2['attend'], test_size=0.3)"
   ]
  },
  {
   "cell_type": "code",
   "execution_count": 80,
   "metadata": {},
   "outputs": [
    {
     "name": "stdout",
     "output_type": "stream",
     "text": [
      "(56, 3) (56,)\n",
      "(25, 3) (25,)\n"
     ]
    }
   ],
   "source": [
    "print(X_train.shape, y_train.shape)\n",
    "## (64, 1) (64,)\n",
    "print(X_test.shape, y_test.shape)\n",
    "## (17, 1) (17,)"
   ]
  },
  {
   "cell_type": "code",
   "execution_count": 83,
   "metadata": {},
   "outputs": [],
   "source": [
    "# Build the linear model\n",
    "lm = linear_model.LinearRegression()\n",
    "model = lm.fit(X_train, y_train)"
   ]
  },
  {
   "cell_type": "code",
   "execution_count": 84,
   "metadata": {},
   "outputs": [
    {
     "name": "stdout",
     "output_type": "stream",
     "text": [
      "[38597.89128985 37916.3111395  38179.16995038 52391.31137127\n",
      " 38566.71878413 37597.84669975 53066.15213906 37535.50168831\n",
      " 38497.63439014 38566.71878413 38629.06379557 38791.66570673\n",
      " 38116.82493894 38210.3424561  38504.37377269 38241.51496182\n",
      " 38310.59935582 38854.01071817 38660.23630129 38629.06379557\n",
      " 38885.18322389 52647.43079958 38303.85997326 37853.96612806\n",
      " 38404.11687298]\n"
     ]
    }
   ],
   "source": [
    "predictions = lm.predict(X_test)\n",
    "print(predictions)"
   ]
  },
  {
   "cell_type": "code",
   "execution_count": 85,
   "metadata": {},
   "outputs": [
    {
     "data": {
      "text/plain": [
       "Text(0, 0.5, 'Predictions')"
      ]
     },
     "execution_count": 85,
     "metadata": {},
     "output_type": "execute_result"
    },
    {
     "data": {
      "image/png": "[encoded data removed]",
      "text/plain": [
       "<Figure size 432x288 with 1 Axes>"
      ]
     },
     "metadata": {
      "needs_background": "light"
     },
     "output_type": "display_data"
    }
   ],
   "source": [
    "#let's plot that training model:\n",
    "plt.scatter(y_test, predictions)\n",
    "plt.xlabel(\"True Values\")\n",
    "plt.ylabel(\"Predictions\")"
   ]
  },
  {
   "cell_type": "code",
   "execution_count": 69,
   "metadata": {},
   "outputs": [
    {
     "name": "stdout",
     "output_type": "stream",
     "text": [
      "Model Score: 0.4333547706865034\n",
      "Y-Intercept: 38885.183223889464\n",
      "[('month', -31.1725057198039), ('day_of_week', -193.77441687713488), ('bobblehead', 14568.517748922892)]\n"
     ]
    }
   ],
   "source": [
    "# Print the model results.\n",
    "print('Model Score:', model.score(X_train, y_train))\n",
    "print('Y-Intercept:',model.intercept_)\n",
    "print(list(zip(indexCols, model.coef_)))"
   ]
  },
  {
   "cell_type": "markdown",
   "metadata": {},
   "source": [
    "The model predicts that a bobblehead event would increase attendance by 14,569 thousand fans."
   ]
  },
  {
   "cell_type": "code",
   "execution_count": 74,
   "metadata": {},
   "outputs": [],
   "source": [
    "import statsmodels.api as sm\n",
    "\n",
    "# Adding a constant to get an intercept\n",
    "X_train_sm = sm.add_constant(X_train)"
   ]
  },
  {
   "cell_type": "code",
   "execution_count": 75,
   "metadata": {},
   "outputs": [
    {
     "data": {
      "text/plain": [
       "const          38885.183224\n",
       "month            -31.172506\n",
       "day_of_week     -193.774417\n",
       "bobblehead     14568.517749\n",
       "dtype: float64"
      ]
     },
     "execution_count": 75,
     "metadata": {},
     "output_type": "execute_result"
    }
   ],
   "source": [
    "# Fitting the resgression line using 'OLS'\n",
    "lr = sm.OLS(y_train, X_train_sm).fit()\n",
    "\n",
    "# Printing the parameters\n",
    "lr.params"
   ]
  },
  {
   "cell_type": "code",
   "execution_count": 76,
   "metadata": {},
   "outputs": [
    {
     "data": {
      "text/html": [
       "<table class=\"simpletable\">\n",
       "<caption>OLS Regression Results</caption>\n",
       "<tr>\n",
       "  <th>Dep. Variable:</th>         <td>attend</td>      <th>  R-squared:         </th> <td>   0.433</td>\n",
       "</tr>\n",
       "<tr>\n",
       "  <th>Model:</th>                   <td>OLS</td>       <th>  Adj. R-squared:    </th> <td>   0.401</td>\n",
       "</tr>\n",
       "<tr>\n",
       "  <th>Method:</th>             <td>Least Squares</td>  <th>  F-statistic:       </th> <td>   13.26</td>\n",
       "</tr>\n",
       "<tr>\n",
       "  <th>Date:</th>             <td>Thu, 16 Sep 2021</td> <th>  Prob (F-statistic):</th> <td>1.52e-06</td>\n",
       "</tr>\n",
       "<tr>\n",
       "  <th>Time:</th>                 <td>20:06:55</td>     <th>  Log-Likelihood:    </th> <td> -564.24</td>\n",
       "</tr>\n",
       "<tr>\n",
       "  <th>No. Observations:</th>      <td>    56</td>      <th>  AIC:               </th> <td>   1136.</td>\n",
       "</tr>\n",
       "<tr>\n",
       "  <th>Df Residuals:</th>          <td>    52</td>      <th>  BIC:               </th> <td>   1145.</td>\n",
       "</tr>\n",
       "<tr>\n",
       "  <th>Df Model:</th>              <td>     3</td>      <th>                     </th>     <td> </td>   \n",
       "</tr>\n",
       "<tr>\n",
       "  <th>Covariance Type:</th>      <td>nonrobust</td>    <th>                     </th>     <td> </td>   \n",
       "</tr>\n",
       "</table>\n",
       "<table class=\"simpletable\">\n",
       "<tr>\n",
       "       <td></td>          <th>coef</th>     <th>std err</th>      <th>t</th>      <th>P>|t|</th>  <th>[0.025</th>    <th>0.975]</th>  \n",
       "</tr>\n",
       "<tr>\n",
       "  <th>const</th>       <td> 3.889e+04</td> <td> 1948.455</td> <td>   19.957</td> <td> 0.000</td> <td>  3.5e+04</td> <td> 4.28e+04</td>\n",
       "</tr>\n",
       "<tr>\n",
       "  <th>month</th>       <td>  -31.1725</td> <td>  411.714</td> <td>   -0.076</td> <td> 0.940</td> <td> -857.337</td> <td>  794.992</td>\n",
       "</tr>\n",
       "<tr>\n",
       "  <th>day_of_week</th> <td> -193.7744</td> <td>  388.374</td> <td>   -0.499</td> <td> 0.620</td> <td> -973.104</td> <td>  585.555</td>\n",
       "</tr>\n",
       "<tr>\n",
       "  <th>bobblehead</th>  <td> 1.457e+04</td> <td> 2342.482</td> <td>    6.219</td> <td> 0.000</td> <td> 9867.983</td> <td> 1.93e+04</td>\n",
       "</tr>\n",
       "</table>\n",
       "<table class=\"simpletable\">\n",
       "<tr>\n",
       "  <th>Omnibus:</th>       <td> 0.841</td> <th>  Durbin-Watson:     </th> <td>   1.934</td>\n",
       "</tr>\n",
       "<tr>\n",
       "  <th>Prob(Omnibus):</th> <td> 0.657</td> <th>  Jarque-Bera (JB):  </th> <td>   0.386</td>\n",
       "</tr>\n",
       "<tr>\n",
       "  <th>Skew:</th>          <td> 0.186</td> <th>  Prob(JB):          </th> <td>   0.824</td>\n",
       "</tr>\n",
       "<tr>\n",
       "  <th>Kurtosis:</th>      <td> 3.164</td> <th>  Cond. No.          </th> <td>    13.9</td>\n",
       "</tr>\n",
       "</table><br/><br/>Notes:<br/>[1] Standard Errors assume that the covariance matrix of the errors is correctly specified."
      ],
      "text/plain": [
       "<class 'statsmodels.iolib.summary.Summary'>\n",
       "\"\"\"\n",
       "                            OLS Regression Results                            \n",
       "==============================================================================\n",
       "Dep. Variable:                 attend   R-squared:                       0.433\n",
       "Model:                            OLS   Adj. R-squared:                  0.401\n",
       "Method:                 Least Squares   F-statistic:                     13.26\n",
       "Date:                Thu, 16 Sep 2021   Prob (F-statistic):           1.52e-06\n",
       "Time:                        20:06:55   Log-Likelihood:                -564.24\n",
       "No. Observations:                  56   AIC:                             1136.\n",
       "Df Residuals:                      52   BIC:                             1145.\n",
       "Df Model:                           3                                         \n",
       "Covariance Type:            nonrobust                                         \n",
       "===============================================================================\n",
       "                  coef    std err          t      P>|t|      [0.025      0.975]\n",
       "-------------------------------------------------------------------------------\n",
       "const        3.889e+04   1948.455     19.957      0.000     3.5e+04    4.28e+04\n",
       "month         -31.1725    411.714     -0.076      0.940    -857.337     794.992\n",
       "day_of_week  -193.7744    388.374     -0.499      0.620    -973.104     585.555\n",
       "bobblehead   1.457e+04   2342.482      6.219      0.000    9867.983    1.93e+04\n",
       "==============================================================================\n",
       "Omnibus:                        0.841   Durbin-Watson:                   1.934\n",
       "Prob(Omnibus):                  0.657   Jarque-Bera (JB):                0.386\n",
       "Skew:                           0.186   Prob(JB):                        0.824\n",
       "Kurtosis:                       3.164   Cond. No.                         13.9\n",
       "==============================================================================\n",
       "\n",
       "Notes:\n",
       "[1] Standard Errors assume that the covariance matrix of the errors is correctly specified.\n",
       "\"\"\""
      ]
     },
     "execution_count": 76,
     "metadata": {},
     "output_type": "execute_result"
    }
   ],
   "source": [
    "# Performing a summary to list out all the different parameters of the regression line fitted\n",
    "lr.summary()"
   ]
  },
  {
   "cell_type": "code",
   "execution_count": 6,
   "metadata": {},
   "outputs": [
    {
     "data": {
      "text/html": [
       "<table class=\"simpletable\">\n",
       "<caption>OLS Regression Results</caption>\n",
       "<tr>\n",
       "  <th>Dep. Variable:</th>         <td>attend</td>      <th>  R-squared:         </th> <td>   0.411</td>\n",
       "</tr>\n",
       "<tr>\n",
       "  <th>Model:</th>                   <td>OLS</td>       <th>  Adj. R-squared:    </th> <td>   0.307</td>\n",
       "</tr>\n",
       "<tr>\n",
       "  <th>Method:</th>             <td>Least Squares</td>  <th>  F-statistic:       </th> <td>   3.954</td>\n",
       "</tr>\n",
       "<tr>\n",
       "  <th>Date:</th>             <td>Thu, 16 Sep 2021</td> <th>  Prob (F-statistic):</th> <td>0.000128</td>\n",
       "</tr>\n",
       "<tr>\n",
       "  <th>Time:</th>                 <td>21:54:35</td>     <th>  Log-Likelihood:    </th> <td> -823.91</td>\n",
       "</tr>\n",
       "<tr>\n",
       "  <th>No. Observations:</th>      <td>    81</td>      <th>  AIC:               </th> <td>   1674.</td>\n",
       "</tr>\n",
       "<tr>\n",
       "  <th>Df Residuals:</th>          <td>    68</td>      <th>  BIC:               </th> <td>   1705.</td>\n",
       "</tr>\n",
       "<tr>\n",
       "  <th>Df Model:</th>              <td>    12</td>      <th>                     </th>     <td> </td>   \n",
       "</tr>\n",
       "<tr>\n",
       "  <th>Covariance Type:</th>      <td>nonrobust</td>    <th>                     </th>     <td> </td>   \n",
       "</tr>\n",
       "</table>\n",
       "<table class=\"simpletable\">\n",
       "<tr>\n",
       "               <td></td>                  <th>coef</th>     <th>std err</th>      <th>t</th>      <th>P>|t|</th>  <th>[0.025</th>    <th>0.975]</th>  \n",
       "</tr>\n",
       "<tr>\n",
       "  <th>Intercept</th>                   <td> 3.805e+04</td> <td> 2661.948</td> <td>   14.293</td> <td> 0.000</td> <td> 3.27e+04</td> <td> 4.34e+04</td>\n",
       "</tr>\n",
       "<tr>\n",
       "  <th>C(month)[T.AUG]</th>             <td> 3965.9784</td> <td> 2681.525</td> <td>    1.479</td> <td> 0.144</td> <td>-1384.921</td> <td> 9316.878</td>\n",
       "</tr>\n",
       "<tr>\n",
       "  <th>C(month)[T.JUL]</th>             <td> 4768.3867</td> <td> 2868.802</td> <td>    1.662</td> <td> 0.101</td> <td> -956.218</td> <td> 1.05e+04</td>\n",
       "</tr>\n",
       "<tr>\n",
       "  <th>C(month)[T.JUN]</th>             <td> 8753.4054</td> <td> 3057.367</td> <td>    2.863</td> <td> 0.006</td> <td> 2652.524</td> <td> 1.49e+04</td>\n",
       "</tr>\n",
       "<tr>\n",
       "  <th>C(month)[T.MAY]</th>             <td>-1957.7296</td> <td> 2583.531</td> <td>   -0.758</td> <td> 0.451</td> <td>-7113.086</td> <td> 3197.627</td>\n",
       "</tr>\n",
       "<tr>\n",
       "  <th>C(month)[T.OCT]</th>             <td>-1500.1929</td> <td> 4561.773</td> <td>   -0.329</td> <td> 0.743</td> <td>-1.06e+04</td> <td> 7602.683</td>\n",
       "</tr>\n",
       "<tr>\n",
       "  <th>C(month)[T.SEP]</th>             <td> -692.4947</td> <td> 2839.495</td> <td>   -0.244</td> <td> 0.808</td> <td>-6358.619</td> <td> 4973.630</td>\n",
       "</tr>\n",
       "<tr>\n",
       "  <th>C(day_of_week)[T.Monday]</th>    <td>-4991.2625</td> <td> 2826.580</td> <td>   -1.766</td> <td> 0.082</td> <td>-1.06e+04</td> <td>  649.091</td>\n",
       "</tr>\n",
       "<tr>\n",
       "  <th>C(day_of_week)[T.Saturday]</th>  <td> 3314.3441</td> <td> 2717.208</td> <td>    1.220</td> <td> 0.227</td> <td>-2107.761</td> <td> 8736.449</td>\n",
       "</tr>\n",
       "<tr>\n",
       "  <th>C(day_of_week)[T.Sunday]</th>    <td> 2816.8071</td> <td> 2727.510</td> <td>    1.033</td> <td> 0.305</td> <td>-2625.855</td> <td> 8259.469</td>\n",
       "</tr>\n",
       "<tr>\n",
       "  <th>C(day_of_week)[T.Thursday]</th>  <td>  347.0261</td> <td> 3643.149</td> <td>    0.095</td> <td> 0.924</td> <td>-6922.765</td> <td> 7616.818</td>\n",
       "</tr>\n",
       "<tr>\n",
       "  <th>C(day_of_week)[T.Tuesday]</th>   <td> 7931.2545</td> <td> 2762.345</td> <td>    2.871</td> <td> 0.005</td> <td> 2419.080</td> <td> 1.34e+04</td>\n",
       "</tr>\n",
       "<tr>\n",
       "  <th>C(day_of_week)[T.Wednesday]</th> <td>-2468.0392</td> <td> 2805.030</td> <td>   -0.880</td> <td> 0.382</td> <td>-8065.390</td> <td> 3129.311</td>\n",
       "</tr>\n",
       "</table>\n",
       "<table class=\"simpletable\">\n",
       "<tr>\n",
       "  <th>Omnibus:</th>       <td> 1.089</td> <th>  Durbin-Watson:     </th> <td>   2.163</td>\n",
       "</tr>\n",
       "<tr>\n",
       "  <th>Prob(Omnibus):</th> <td> 0.580</td> <th>  Jarque-Bera (JB):  </th> <td>   1.008</td>\n",
       "</tr>\n",
       "<tr>\n",
       "  <th>Skew:</th>          <td> 0.266</td> <th>  Prob(JB):          </th> <td>   0.604</td>\n",
       "</tr>\n",
       "<tr>\n",
       "  <th>Kurtosis:</th>      <td> 2.877</td> <th>  Cond. No.          </th> <td>    8.74</td>\n",
       "</tr>\n",
       "</table><br/><br/>Notes:<br/>[1] Standard Errors assume that the covariance matrix of the errors is correctly specified."
      ],
      "text/plain": [
       "<class 'statsmodels.iolib.summary.Summary'>\n",
       "\"\"\"\n",
       "                            OLS Regression Results                            \n",
       "==============================================================================\n",
       "Dep. Variable:                 attend   R-squared:                       0.411\n",
       "Model:                            OLS   Adj. R-squared:                  0.307\n",
       "Method:                 Least Squares   F-statistic:                     3.954\n",
       "Date:                Thu, 16 Sep 2021   Prob (F-statistic):           0.000128\n",
       "Time:                        21:54:35   Log-Likelihood:                -823.91\n",
       "No. Observations:                  81   AIC:                             1674.\n",
       "Df Residuals:                      68   BIC:                             1705.\n",
       "Df Model:                          12                                         \n",
       "Covariance Type:            nonrobust                                         \n",
       "===============================================================================================\n",
       "                                  coef    std err          t      P>|t|      [0.025      0.975]\n",
       "-----------------------------------------------------------------------------------------------\n",
       "Intercept                    3.805e+04   2661.948     14.293      0.000    3.27e+04    4.34e+04\n",
       "C(month)[T.AUG]              3965.9784   2681.525      1.479      0.144   -1384.921    9316.878\n",
       "C(month)[T.JUL]              4768.3867   2868.802      1.662      0.101    -956.218    1.05e+04\n",
       "C(month)[T.JUN]              8753.4054   3057.367      2.863      0.006    2652.524    1.49e+04\n",
       "C(month)[T.MAY]             -1957.7296   2583.531     -0.758      0.451   -7113.086    3197.627\n",
       "C(month)[T.OCT]             -1500.1929   4561.773     -0.329      0.743   -1.06e+04    7602.683\n",
       "C(month)[T.SEP]              -692.4947   2839.495     -0.244      0.808   -6358.619    4973.630\n",
       "C(day_of_week)[T.Monday]    -4991.2625   2826.580     -1.766      0.082   -1.06e+04     649.091\n",
       "C(day_of_week)[T.Saturday]   3314.3441   2717.208      1.220      0.227   -2107.761    8736.449\n",
       "C(day_of_week)[T.Sunday]     2816.8071   2727.510      1.033      0.305   -2625.855    8259.469\n",
       "C(day_of_week)[T.Thursday]    347.0261   3643.149      0.095      0.924   -6922.765    7616.818\n",
       "C(day_of_week)[T.Tuesday]    7931.2545   2762.345      2.871      0.005    2419.080    1.34e+04\n",
       "C(day_of_week)[T.Wednesday] -2468.0392   2805.030     -0.880      0.382   -8065.390    3129.311\n",
       "==============================================================================\n",
       "Omnibus:                        1.089   Durbin-Watson:                   2.163\n",
       "Prob(Omnibus):                  0.580   Jarque-Bera (JB):                1.008\n",
       "Skew:                           0.266   Prob(JB):                        0.604\n",
       "Kurtosis:                       2.877   Cond. No.                         8.74\n",
       "==============================================================================\n",
       "\n",
       "Notes:\n",
       "[1] Standard Errors assume that the covariance matrix of the errors is correctly specified.\n",
       "\"\"\""
      ]
     },
     "execution_count": 6,
     "metadata": {},
     "output_type": "execute_result"
    }
   ],
   "source": [
    "fit = ols('attend ~ C(month) + C(day_of_week)', data=dodgers).fit() \n",
    "\n",
    "fit.summary()"
   ]
  },
  {
   "cell_type": "code",
   "execution_count": 7,
   "metadata": {},
   "outputs": [
    {
     "data": {
      "text/html": [
       "<table class=\"simpletable\">\n",
       "<caption>OLS Regression Results</caption>\n",
       "<tr>\n",
       "  <th>Dep. Variable:</th>         <td>attend</td>      <th>  R-squared:         </th> <td>   0.544</td>\n",
       "</tr>\n",
       "<tr>\n",
       "  <th>Model:</th>                   <td>OLS</td>       <th>  Adj. R-squared:    </th> <td>   0.456</td>\n",
       "</tr>\n",
       "<tr>\n",
       "  <th>Method:</th>             <td>Least Squares</td>  <th>  F-statistic:       </th> <td>   6.158</td>\n",
       "</tr>\n",
       "<tr>\n",
       "  <th>Date:</th>             <td>Thu, 16 Sep 2021</td> <th>  Prob (F-statistic):</th> <td>2.08e-07</td>\n",
       "</tr>\n",
       "<tr>\n",
       "  <th>Time:</th>                 <td>21:56:52</td>     <th>  Log-Likelihood:    </th> <td> -813.52</td>\n",
       "</tr>\n",
       "<tr>\n",
       "  <th>No. Observations:</th>      <td>    81</td>      <th>  AIC:               </th> <td>   1655.</td>\n",
       "</tr>\n",
       "<tr>\n",
       "  <th>Df Residuals:</th>          <td>    67</td>      <th>  BIC:               </th> <td>   1689.</td>\n",
       "</tr>\n",
       "<tr>\n",
       "  <th>Df Model:</th>              <td>    13</td>      <th>                     </th>     <td> </td>   \n",
       "</tr>\n",
       "<tr>\n",
       "  <th>Covariance Type:</th>      <td>nonrobust</td>    <th>                     </th>     <td> </td>   \n",
       "</tr>\n",
       "</table>\n",
       "<table class=\"simpletable\">\n",
       "<tr>\n",
       "               <td></td>                  <th>coef</th>     <th>std err</th>      <th>t</th>      <th>P>|t|</th>  <th>[0.025</th>    <th>0.975]</th>  \n",
       "</tr>\n",
       "<tr>\n",
       "  <th>Intercept</th>                   <td> 3.879e+04</td> <td> 2364.676</td> <td>   16.405</td> <td> 0.000</td> <td> 3.41e+04</td> <td> 4.35e+04</td>\n",
       "</tr>\n",
       "<tr>\n",
       "  <th>C(month)[T.AUG]</th>             <td> 2377.9243</td> <td> 2402.915</td> <td>    0.990</td> <td> 0.326</td> <td>-2418.314</td> <td> 7174.162</td>\n",
       "</tr>\n",
       "<tr>\n",
       "  <th>C(month)[T.JUL]</th>             <td> 2849.8281</td> <td> 2578.600</td> <td>    1.105</td> <td> 0.273</td> <td>-2297.079</td> <td> 7996.735</td>\n",
       "</tr>\n",
       "<tr>\n",
       "  <th>C(month)[T.JUN]</th>             <td> 7163.2336</td> <td> 2732.721</td> <td>    2.621</td> <td> 0.011</td> <td> 1708.699</td> <td> 1.26e+04</td>\n",
       "</tr>\n",
       "<tr>\n",
       "  <th>C(month)[T.MAY]</th>             <td>-2385.6248</td> <td> 2291.216</td> <td>   -1.041</td> <td> 0.302</td> <td>-6958.912</td> <td> 2187.662</td>\n",
       "</tr>\n",
       "<tr>\n",
       "  <th>C(month)[T.OCT]</th>             <td> -662.6677</td> <td> 4046.452</td> <td>   -0.164</td> <td> 0.870</td> <td>-8739.419</td> <td> 7414.083</td>\n",
       "</tr>\n",
       "<tr>\n",
       "  <th>C(month)[T.SEP]</th>             <td>   29.0302</td> <td> 2521.249</td> <td>    0.012</td> <td> 0.991</td> <td>-5003.404</td> <td> 5061.464</td>\n",
       "</tr>\n",
       "<tr>\n",
       "  <th>C(day_of_week)[T.Monday]</th>    <td>-4883.8183</td> <td> 2504.653</td> <td>   -1.950</td> <td> 0.055</td> <td>-9883.127</td> <td>  115.490</td>\n",
       "</tr>\n",
       "<tr>\n",
       "  <th>C(day_of_week)[T.Saturday]</th>  <td> 1488.2375</td> <td> 2442.681</td> <td>    0.609</td> <td> 0.544</td> <td>-3387.374</td> <td> 6363.849</td>\n",
       "</tr>\n",
       "<tr>\n",
       "  <th>C(day_of_week)[T.Sunday]</th>    <td> 1840.1843</td> <td> 2426.794</td> <td>    0.758</td> <td> 0.451</td> <td>-3003.716</td> <td> 6684.085</td>\n",
       "</tr>\n",
       "<tr>\n",
       "  <th>C(day_of_week)[T.Thursday]</th>  <td>-4108.4545</td> <td> 3381.219</td> <td>   -1.215</td> <td> 0.229</td> <td>-1.09e+04</td> <td> 2640.487</td>\n",
       "</tr>\n",
       "<tr>\n",
       "  <th>C(day_of_week)[T.Tuesday]</th>   <td> 3027.6753</td> <td> 2686.427</td> <td>    1.127</td> <td> 0.264</td> <td>-2334.455</td> <td> 8389.806</td>\n",
       "</tr>\n",
       "<tr>\n",
       "  <th>C(day_of_week)[T.Wednesday]</th> <td>-2423.7951</td> <td> 2485.461</td> <td>   -0.975</td> <td> 0.333</td> <td>-7384.795</td> <td> 2537.205</td>\n",
       "</tr>\n",
       "<tr>\n",
       "  <th>C(bobblehead)[T.YES]</th>        <td> 1.071e+04</td> <td> 2419.520</td> <td>    4.429</td> <td> 0.000</td> <td> 5885.521</td> <td> 1.55e+04</td>\n",
       "</tr>\n",
       "</table>\n",
       "<table class=\"simpletable\">\n",
       "<tr>\n",
       "  <th>Omnibus:</th>       <td> 6.343</td> <th>  Durbin-Watson:     </th> <td>   2.130</td>\n",
       "</tr>\n",
       "<tr>\n",
       "  <th>Prob(Omnibus):</th> <td> 0.042</td> <th>  Jarque-Bera (JB):  </th> <td>   5.908</td>\n",
       "</tr>\n",
       "<tr>\n",
       "  <th>Skew:</th>          <td> 0.654</td> <th>  Prob(JB):          </th> <td>  0.0521</td>\n",
       "</tr>\n",
       "<tr>\n",
       "  <th>Kurtosis:</th>      <td> 3.205</td> <th>  Cond. No.          </th> <td>    8.97</td>\n",
       "</tr>\n",
       "</table><br/><br/>Notes:<br/>[1] Standard Errors assume that the covariance matrix of the errors is correctly specified."
      ],
      "text/plain": [
       "<class 'statsmodels.iolib.summary.Summary'>\n",
       "\"\"\"\n",
       "                            OLS Regression Results                            \n",
       "==============================================================================\n",
       "Dep. Variable:                 attend   R-squared:                       0.544\n",
       "Model:                            OLS   Adj. R-squared:                  0.456\n",
       "Method:                 Least Squares   F-statistic:                     6.158\n",
       "Date:                Thu, 16 Sep 2021   Prob (F-statistic):           2.08e-07\n",
       "Time:                        21:56:52   Log-Likelihood:                -813.52\n",
       "No. Observations:                  81   AIC:                             1655.\n",
       "Df Residuals:                      67   BIC:                             1689.\n",
       "Df Model:                          13                                         \n",
       "Covariance Type:            nonrobust                                         \n",
       "===============================================================================================\n",
       "                                  coef    std err          t      P>|t|      [0.025      0.975]\n",
       "-----------------------------------------------------------------------------------------------\n",
       "Intercept                    3.879e+04   2364.676     16.405      0.000    3.41e+04    4.35e+04\n",
       "C(month)[T.AUG]              2377.9243   2402.915      0.990      0.326   -2418.314    7174.162\n",
       "C(month)[T.JUL]              2849.8281   2578.600      1.105      0.273   -2297.079    7996.735\n",
       "C(month)[T.JUN]              7163.2336   2732.721      2.621      0.011    1708.699    1.26e+04\n",
       "C(month)[T.MAY]             -2385.6248   2291.216     -1.041      0.302   -6958.912    2187.662\n",
       "C(month)[T.OCT]              -662.6677   4046.452     -0.164      0.870   -8739.419    7414.083\n",
       "C(month)[T.SEP]                29.0302   2521.249      0.012      0.991   -5003.404    5061.464\n",
       "C(day_of_week)[T.Monday]    -4883.8183   2504.653     -1.950      0.055   -9883.127     115.490\n",
       "C(day_of_week)[T.Saturday]   1488.2375   2442.681      0.609      0.544   -3387.374    6363.849\n",
       "C(day_of_week)[T.Sunday]     1840.1843   2426.794      0.758      0.451   -3003.716    6684.085\n",
       "C(day_of_week)[T.Thursday]  -4108.4545   3381.219     -1.215      0.229   -1.09e+04    2640.487\n",
       "C(day_of_week)[T.Tuesday]    3027.6753   2686.427      1.127      0.264   -2334.455    8389.806\n",
       "C(day_of_week)[T.Wednesday] -2423.7951   2485.461     -0.975      0.333   -7384.795    2537.205\n",
       "C(bobblehead)[T.YES]         1.071e+04   2419.520      4.429      0.000    5885.521    1.55e+04\n",
       "==============================================================================\n",
       "Omnibus:                        6.343   Durbin-Watson:                   2.130\n",
       "Prob(Omnibus):                  0.042   Jarque-Bera (JB):                5.908\n",
       "Skew:                           0.654   Prob(JB):                       0.0521\n",
       "Kurtosis:                       3.205   Cond. No.                         8.97\n",
       "==============================================================================\n",
       "\n",
       "Notes:\n",
       "[1] Standard Errors assume that the covariance matrix of the errors is correctly specified.\n",
       "\"\"\""
      ]
     },
     "execution_count": 7,
     "metadata": {},
     "output_type": "execute_result"
    }
   ],
   "source": [
    "fit1 = ols('attend ~ C(month) + C(day_of_week)+ C(bobblehead)', data=dodgers).fit() \n",
    "\n",
    "fit1.summary()"
   ]
  },
  {
   "cell_type": "markdown",
   "metadata": {},
   "source": [
    "Final Recommendation\n",
    "After going through the data in different ways, including scatter plots, box plots, and regression analysis, my main recommendation is for the Dodgers marketing department to plan to offer more giveaway items, in particular, bobbleheads. Looking through the data, they had a large turnout on Tuesdays, primarily due to bobblehead giveaways.\n",
    "\n",
    "To answer the original problem — \"What night would be the best to run a marketing promotion to increase attendance?\" — my recommendation is to start offering bobbleheads on Mondays to help bring more people out.If we observe the coef of promo-set vs non-promo set it is evident that there is huge spike on tuesdays due to promo launch. Mondays were the lowest draw during the week, so giving the fans a reason to show up by giving them a freebie would be a good way to get attendance boosted on that day. "
   ]
  },
  {
   "cell_type": "code",
   "execution_count": null,
   "metadata": {},
   "outputs": [],
   "source": []
  }
 ],
 "metadata": {
  "kernelspec": {
   "display_name": "Python 3",
   "language": "python",
   "name": "python3"
  },
  "language_info": {
   "codemirror_mode": {
    "name": "ipython",
    "version": 3
   },
   "file_extension": ".py",
   "mimetype": "text/x-python",
   "name": "python",
   "nbconvert_exporter": "python",
   "pygments_lexer": "ipython3",
   "version": "3.8.5"
  }
 },
 "nbformat": 4,
 "nbformat_minor": 4
}
