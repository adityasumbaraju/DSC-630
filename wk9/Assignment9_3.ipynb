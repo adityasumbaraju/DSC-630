{
 "cells": [
  {
   "cell_type": "markdown",
   "metadata": {},
   "source": [
    "# Calculate the probability of a model ensemble that uses simple majority voting making an incorrect prediction in the following scenarios"
   ]
  },
  {
   "cell_type": "code",
   "execution_count": 2,
   "metadata": {},
   "outputs": [],
   "source": [
    "from scipy.stats import binom\n",
    "import numpy as np"
   ]
  },
  {
   "cell_type": "markdown",
   "metadata": {},
   "source": [
    "# 1. The ensemble contains 11 independent models, all of which have an error rate of 0.2."
   ]
  },
  {
   "cell_type": "code",
   "execution_count": 3,
   "metadata": {},
   "outputs": [
    {
     "name": "stdout",
     "output_type": "stream",
     "text": [
      "0.011654205439999954\n"
     ]
    }
   ],
   "source": [
    "n = 11\n",
    "p = 0.2\n",
    "k = np.ceil(n / 2)\n",
    "binomial = 1 - binom.cdf(k-1,n,p)\n",
    "print(binomial)"
   ]
  },
  {
   "cell_type": "code",
   "execution_count": 4,
   "metadata": {},
   "outputs": [
    {
     "data": {
      "image/png": "[encoded data removed]",
      "text/plain": [
       "<Figure size 432x288 with 1 Axes>"
      ]
     },
     "metadata": {
      "needs_background": "light"
     },
     "output_type": "display_data"
    }
   ],
   "source": [
    "import matplotlib.pyplot as plt\n",
    "def binomcdf():\n",
    "    p = 0.2\n",
    "    n = 11\n",
    "    x = np.ceil(n / 2)\n",
    "    result = []\n",
    "    for a in range(10):\n",
    "        result.append(1- binom.cdf(x-1, n, p))\n",
    "        x += 10\n",
    "    return result\n",
    "\n",
    "plt.hist(binomcdf())\n",
    "plt.show()"
   ]
  },
  {
   "cell_type": "code",
   "execution_count": 5,
   "metadata": {},
   "outputs": [],
   "source": [
    "binomial_pmf=binom.pmf(k-1,n,p)"
   ]
  },
  {
   "cell_type": "code",
   "execution_count": 6,
   "metadata": {},
   "outputs": [
    {
     "name": "stdout",
     "output_type": "stream",
     "text": [
      "0.038755368959999995\n"
     ]
    }
   ],
   "source": [
    "print (binomial_pmf)"
   ]
  },
  {
   "cell_type": "code",
   "execution_count": 7,
   "metadata": {},
   "outputs": [
    {
     "data": {
      "image/png": "[encoded data removed]",
      "text/plain": [
       "<Figure size 432x288 with 1 Axes>"
      ]
     },
     "metadata": {
      "needs_background": "light"
     },
     "output_type": "display_data"
    }
   ],
   "source": [
    "import matplotlib.pyplot as plt\n",
    "def binompmf():\n",
    "    p = 0.2\n",
    "    n = 11\n",
    "    x = np.ceil(n / 2)\n",
    "    result = []\n",
    "    for a in range(10):\n",
    "        result.append(binom.pmf(x-1, n, p))\n",
    "        x += 10\n",
    "    return result\n",
    "\n",
    "plt.hist(binompmf())\n",
    "plt.show()"
   ]
  },
  {
   "cell_type": "markdown",
   "metadata": {},
   "source": [
    "# 2. The ensemble contains 11 independent models, all of which have an error rate of 0.49."
   ]
  },
  {
   "cell_type": "code",
   "execution_count": 9,
   "metadata": {},
   "outputs": [
    {
     "name": "stdout",
     "output_type": "stream",
     "text": [
      "[0.2296378289465168]\n",
      "[0.2296378289465168, 0.0]\n",
      "[0.2296378289465168, 0.0, 0.0]\n",
      "[0.2296378289465168, 0.0, 0.0, 0.0]\n",
      "[0.2296378289465168, 0.0, 0.0, 0.0, 0.0]\n",
      "[0.2296378289465168, 0.0, 0.0, 0.0, 0.0, 0.0]\n",
      "[0.2296378289465168, 0.0, 0.0, 0.0, 0.0, 0.0, 0.0]\n",
      "[0.2296378289465168, 0.0, 0.0, 0.0, 0.0, 0.0, 0.0, 0.0]\n",
      "[0.2296378289465168, 0.0, 0.0, 0.0, 0.0, 0.0, 0.0, 0.0, 0.0]\n",
      "[0.2296378289465168, 0.0, 0.0, 0.0, 0.0, 0.0, 0.0, 0.0, 0.0, 0.0]\n"
     ]
    },
    {
     "data": {
      "image/png": "[encoded data removed]",
      "text/plain": [
       "<Figure size 432x288 with 1 Axes>"
      ]
     },
     "metadata": {
      "needs_background": "light"
     },
     "output_type": "display_data"
    }
   ],
   "source": [
    "import matplotlib.pyplot as plt\n",
    "def binompmf():\n",
    "    p = 0.49\n",
    "    n = 11\n",
    "    x = np.ceil(n / 2)\n",
    "    result = []\n",
    "    for a in range(10):\n",
    "        result.append(binom.pmf(x-1, n, p))\n",
    "        x += 10\n",
    "        print(result)\n",
    "    return result\n",
    "\n",
    "plt.hist(binompmf())\n",
    "plt.show()\n"
   ]
  },
  {
   "cell_type": "code",
   "execution_count": 10,
   "metadata": {},
   "outputs": [
    {
     "name": "stdout",
     "output_type": "stream",
     "text": [
      "[0.4729477257149748]\n",
      "[0.4729477257149748, 0.0]\n",
      "[0.4729477257149748, 0.0, 0.0]\n",
      "[0.4729477257149748, 0.0, 0.0, 0.0]\n",
      "[0.4729477257149748, 0.0, 0.0, 0.0, 0.0]\n",
      "[0.4729477257149748, 0.0, 0.0, 0.0, 0.0, 0.0]\n",
      "[0.4729477257149748, 0.0, 0.0, 0.0, 0.0, 0.0, 0.0]\n",
      "[0.4729477257149748, 0.0, 0.0, 0.0, 0.0, 0.0, 0.0, 0.0]\n",
      "[0.4729477257149748, 0.0, 0.0, 0.0, 0.0, 0.0, 0.0, 0.0, 0.0]\n",
      "[0.4729477257149748, 0.0, 0.0, 0.0, 0.0, 0.0, 0.0, 0.0, 0.0, 0.0]\n"
     ]
    },
    {
     "data": {
      "image/png": "[encoded data removed]",
      "text/plain": [
       "<Figure size 432x288 with 1 Axes>"
      ]
     },
     "metadata": {
      "needs_background": "light"
     },
     "output_type": "display_data"
    }
   ],
   "source": [
    "import matplotlib.pyplot as plt\n",
    "def binomcdf():\n",
    "    p = 0.49\n",
    "    n = 11\n",
    "    x = np.ceil(n / 2)\n",
    "    result = []\n",
    "    for a in range(10):\n",
    "        result.append(1- binom.cdf(x-1, n, p))\n",
    "        x += 10\n",
    "        print (result)\n",
    "    return result\n",
    "\n",
    "plt.hist(binomcdf())\n",
    "plt.show()"
   ]
  },
  {
   "cell_type": "markdown",
   "metadata": {},
   "source": [
    "# 3.The ensemble contains 21 independent models, all of which have an error rate of 0.49."
   ]
  },
  {
   "cell_type": "code",
   "execution_count": 11,
   "metadata": {},
   "outputs": [
    {
     "name": "stdout",
     "output_type": "stream",
     "text": [
      "[0.17086688342342418]\n",
      "[0.17086688342342418, 6.818848969933559e-06]\n",
      "[0.17086688342342418, 6.818848969933559e-06, 0.0]\n",
      "[0.17086688342342418, 6.818848969933559e-06, 0.0, 0.0]\n",
      "[0.17086688342342418, 6.818848969933559e-06, 0.0, 0.0, 0.0]\n",
      "[0.17086688342342418, 6.818848969933559e-06, 0.0, 0.0, 0.0, 0.0]\n",
      "[0.17086688342342418, 6.818848969933559e-06, 0.0, 0.0, 0.0, 0.0, 0.0]\n",
      "[0.17086688342342418, 6.818848969933559e-06, 0.0, 0.0, 0.0, 0.0, 0.0, 0.0]\n",
      "[0.17086688342342418, 6.818848969933559e-06, 0.0, 0.0, 0.0, 0.0, 0.0, 0.0, 0.0]\n",
      "[0.17086688342342418, 6.818848969933559e-06, 0.0, 0.0, 0.0, 0.0, 0.0, 0.0, 0.0, 0.0]\n"
     ]
    },
    {
     "data": {
      "image/png": "[encoded data removed]",
      "text/plain": [
       "<Figure size 432x288 with 1 Axes>"
      ]
     },
     "metadata": {
      "needs_background": "light"
     },
     "output_type": "display_data"
    }
   ],
   "source": [
    "def binompmf():\n",
    "    p = 0.49\n",
    "    n = 21\n",
    "    x = np.ceil(n / 2)\n",
    "    result = []\n",
    "    for a in range(10):\n",
    "        result.append(binom.pmf(x-1, n, p))\n",
    "        x += 10\n",
    "        print(result)\n",
    "    return result\n",
    "\n",
    "plt.hist(binompmf())\n",
    "plt.show()"
   ]
  },
  {
   "cell_type": "code",
   "execution_count": 12,
   "metadata": {},
   "outputs": [
    {
     "name": "stdout",
     "output_type": "stream",
     "text": [
      "[0.4630479010127354]\n",
      "[0.4630479010127354, 3.119734822698561e-07]\n",
      "[0.4630479010127354, 3.119734822698561e-07, 0.0]\n",
      "[0.4630479010127354, 3.119734822698561e-07, 0.0, 0.0]\n",
      "[0.4630479010127354, 3.119734822698561e-07, 0.0, 0.0, 0.0]\n",
      "[0.4630479010127354, 3.119734822698561e-07, 0.0, 0.0, 0.0, 0.0]\n",
      "[0.4630479010127354, 3.119734822698561e-07, 0.0, 0.0, 0.0, 0.0, 0.0]\n",
      "[0.4630479010127354, 3.119734822698561e-07, 0.0, 0.0, 0.0, 0.0, 0.0, 0.0]\n",
      "[0.4630479010127354, 3.119734822698561e-07, 0.0, 0.0, 0.0, 0.0, 0.0, 0.0, 0.0]\n",
      "[0.4630479010127354, 3.119734822698561e-07, 0.0, 0.0, 0.0, 0.0, 0.0, 0.0, 0.0, 0.0]\n"
     ]
    },
    {
     "data": {
      "image/png": "[encoded data removed]",
      "text/plain": [
       "<Figure size 432x288 with 1 Axes>"
      ]
     },
     "metadata": {
      "needs_background": "light"
     },
     "output_type": "display_data"
    }
   ],
   "source": [
    "def binomcdf():\n",
    "    p = 0.49\n",
    "    n = 21\n",
    "    x = np.ceil(n / 2)\n",
    "    result = []\n",
    "    for a in range(10):\n",
    "        result.append(1- binom.cdf(x-1, n, p))\n",
    "        x += 10\n",
    "        print (result)\n",
    "    return result\n",
    "\n",
    "plt.hist(binomcdf())\n",
    "plt.show()"
   ]
  }
 ],
 "metadata": {
  "kernelspec": {
   "display_name": "Python 3",
   "language": "python",
   "name": "python3"
  },
  "language_info": {
   "codemirror_mode": {
    "name": "ipython",
    "version": 3
   },
   "file_extension": ".py",
   "mimetype": "text/x-python",
   "name": "python",
   "nbconvert_exporter": "python",
   "pygments_lexer": "ipython3",
   "version": "3.8.5"
  }
 },
 "nbformat": 4,
 "nbformat_minor": 4
}
